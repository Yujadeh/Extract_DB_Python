{
 "cells": [
  {
   "cell_type": "code",
   "execution_count": 35,
   "id": "f4a22a6f",
   "metadata": {},
   "outputs": [],
   "source": [
    "import json\n",
    "import pyodbc\n",
    "import pandas as pd\n",
    "\n",
    "class DBExtractor():\n",
    "    def __init__(self, configFile: str):\n",
    "        f = open(configFile)\n",
    "        data = json.load(f)\n",
    "        \n",
    "        self._HOST = data[\"HOST\"]\n",
    "        self._PORT = data[\"PORT\"]\n",
    "        self._DATABASE = data[\"DATABASE\"]\n",
    "        self._USER = data[\"USER\"]\n",
    "        self._PASSWORD = data[\"PASSWORD\"]\n",
    "        \n",
    "        f.close()\n",
    " \n",
    "\n",
    "    def extract(self, targetFile: str):\n",
    "        conn = None\n",
    "        \n",
    "        try:\n",
    "            conn = pyodbc.connect(\"DRIVER={ODBC Driver 17 for SQL Server}\" +\n",
    "                                \";SERVER=\" + self._HOST + \n",
    "                                \";DATABASE=\" + self._DATABASE + \n",
    "                                \";UID=\" + self._USER + \n",
    "                                \";PWD=\" + self._PASSWORD + \n",
    "                                \";TrustServerCertificate=Yes\")\n",
    "            \n",
    "            # Insert your exercise code here\n",
    "            \n",
    "            q = \"\"\"SELECT [ItemId]\n",
    "      ,[ItemDocumentNbr]\n",
    "      ,CustomerName\n",
    "      ,[CreateDate]\n",
    "      ,[UpdateDate]\n",
    "      ,ItemSource\n",
    "FROM (\n",
    "SELECT  [ItemId]\n",
    "      ,[ItemDocumentNbr]\n",
    "      ,C.CustomerName\n",
    "      ,[CreateDate]\n",
    "      ,[UpdateDate]\n",
    "      ,VersionNbr\n",
    "      ,[DeletedFlag]\n",
    "      ,ROW_NUMBER()OVER(PARTITION BY ItemId ORDER BY VersionNbr desc) AS RN\n",
    "      ,CASE WHEN RIGHT(CAST(I.CustomerId AS varchar),2) = '99' OR RIGHT(CAST(I.CustomerId AS varchar),2) = '69' THEN 'Local'\n",
    "            ELSE 'External' END AS ItemSource\n",
    "  FROM [ATLAX360_HI_DB].[dbo].[Item] I\n",
    "  LEFT JOIN [ATLAX360_HI_DB].[dbo].[Customer] C on I.CustomerId = C.CustomerId\n",
    ") T\n",
    "WHERE RN = 1 AND [DeletedFlag] = 0\"\"\"\n",
    "            \n",
    "            #q = 'SELECT ItemId FROM [ATLAX360_HI_DB].[dbo].[Item]'\n",
    "            \n",
    "            df = pd.read_sql(q, conn)\n",
    "            df.to_csv(targetFile, sep=';', encoding='utf-8')\n",
    "            \n",
    "            # End of exercise\n",
    "        except:\n",
    "            print(\"error extracting data from sqlserver\")\n",
    "        finally:        \n",
    "            if conn: conn.close()\n"
   ]
  },
  {
   "cell_type": "code",
   "execution_count": 8,
   "id": "4662017f",
   "metadata": {},
   "outputs": [
    {
     "name": "stdout",
     "output_type": "stream",
     "text": [
      "missing required argument target file\n"
     ]
    }
   ],
   "source": [
    "import sys\n",
    "\n",
    "from typing import List\n",
    "\n",
    "#from libs.DBExtractor import DBExtractor\n",
    "\n",
    "\n",
    "\n",
    "def main(args: List[str]):\n",
    "    try:        \n",
    "        extractor = DBExtractor(\"./src/config/exercise-atlax360.json\")\n",
    "    except Exception:\n",
    "        print(\"error locating configuration file ./config/exercise-atlax360.json\")\n",
    "\n",
    "    if len(args) != 1: print(\"missing required argument target file\")\n",
    "    else: extractor.extract(args[0])\n",
    "\n",
    "\n",
    "\n",
    "main(sys.argv[1:])\n"
   ]
  },
  {
   "cell_type": "code",
   "execution_count": 36,
   "id": "4a7a6a58",
   "metadata": {},
   "outputs": [],
   "source": [
    "extractor = DBExtractor(\"./src/config/exercise-atlax360.json\")\n",
    "extractor.extract('extraccion.csv')"
   ]
  },
  {
   "cell_type": "code",
   "execution_count": 17,
   "id": "0a22496b",
   "metadata": {},
   "outputs": [],
   "source": [
    "configFile = \"./src/config/exercise-atlax360.json\"\n",
    "f = open(configFile)\n",
    "data = json.load(f)\n",
    "        \n",
    "_HOST = data[\"HOST\"]\n",
    "_PORT = data[\"PORT\"]\n",
    "_DATABASE = data[\"DATABASE\"]\n",
    "_USER = data[\"USER\"]\n",
    "_PASSWORD = data[\"PASSWORD\"]\n",
    "        \n",
    "f.close()"
   ]
  },
  {
   "cell_type": "code",
   "execution_count": 23,
   "id": "f55e0262",
   "metadata": {},
   "outputs": [],
   "source": [
    "conn = pyodbc.connect(\"DRIVER={ODBC Driver 17 for SQL Server}\" +\n",
    "                                \";SERVER=\" + _HOST + \n",
    "                                \";DATABASE=\" + _DATABASE + \n",
    "                                \";UID=\" + _USER + \n",
    "                                \";PWD=\" + _PASSWORD + \n",
    "                                \";TrustServerCertificate=Yes\")"
   ]
  },
  {
   "cell_type": "code",
   "execution_count": 27,
   "id": "4a67369c",
   "metadata": {},
   "outputs": [],
   "source": [
    "targetFile = 'extraccion.csv'\n",
    "q = 'SELECT ItemId FROM [ATLAX360_HI_DB].[dbo].[Item]'\n",
    "            \n",
    "df = pd.read_sql(q, conn)\n",
    "df.to_csv(targetFile, sep=';', encoding='utf-8')"
   ]
  },
  {
   "cell_type": "code",
   "execution_count": 22,
   "id": "2421a57e",
   "metadata": {},
   "outputs": [
    {
     "data": {
      "text/plain": [
       "1433"
      ]
     },
     "execution_count": 22,
     "metadata": {},
     "output_type": "execute_result"
    }
   ],
   "source": []
  },
  {
   "cell_type": "code",
   "execution_count": null,
   "id": "56d5e4d5",
   "metadata": {},
   "outputs": [],
   "source": []
  }
 ],
 "metadata": {
  "kernelspec": {
   "display_name": "Python 3 (ipykernel)",
   "language": "python",
   "name": "python3"
  },
  "language_info": {
   "codemirror_mode": {
    "name": "ipython",
    "version": 3
   },
   "file_extension": ".py",
   "mimetype": "text/x-python",
   "name": "python",
   "nbconvert_exporter": "python",
   "pygments_lexer": "ipython3",
   "version": "3.9.6"
  }
 },
 "nbformat": 4,
 "nbformat_minor": 5
}
